{
 "cells": [
  {
   "cell_type": "code",
   "execution_count": 1,
   "source": [
    "import re\n",
    "import nltk\n",
    "import string\n",
    "from nltk.corpus import stopwords\n",
    "import pickle\n",
    "\n",
    "stems = nltk.SnowballStemmer('english')\n",
    "nltk.download('stopwords')\n",
    "\n",
    "# Removing stop words\n",
    "stop_words = stopwords.words('english')\n"
   ],
   "outputs": [
    {
     "output_type": "stream",
     "name": "stderr",
     "text": [
      "[nltk_data] Downloading package stopwords to /home/Abuton/nltk_data...\n",
      "[nltk_data]   Package stopwords is already up-to-date!\n"
     ]
    }
   ],
   "metadata": {}
  },
  {
   "cell_type": "code",
   "execution_count": 12,
   "source": [
    "\n",
    "def cleaning(text):\n",
    "    text = str(text).lower()\n",
    "    text = re.sub('\\[.*?\\]', '', text)\n",
    "    text = re.sub('https?://\\S+|www\\.\\S+', '', text)\n",
    "    text = re.sub('<.*?>+', '', text)\n",
    "    text = re.sub('[%s]' % re.escape(string.punctuation), '', text)\n",
    "    text = re.sub('\\n', '', text)\n",
    "    text = re.sub('\\w*\\d\\w*', '', text)\n",
    "    return text\n",
    "\n",
    "def pipeline(text):\n",
    "    text = cleaning(text)\n",
    "    text = ' ' .join(word for word in text.split(' ') if word not in stop_words)\n",
    "    text = ' '.join(stems.stem(word) for word in text.split(' '))\n",
    "    return text\n",
    "\n",
    "sentence = \"A former Deputy Governor 's Central Bank said million Nigerians\"\n",
    "sentence1 = 'URGENT! We are trying to contact U. Todays draw shows that you have won a å£2000 prize GUARANTEED. Call 09066358361 from land line. Claim Y87. Valid 12hrs only,'\n"
   ],
   "outputs": [],
   "metadata": {}
  },
  {
   "cell_type": "code",
   "execution_count": 13,
   "source": [
    "print(sentence)\n",
    "print(sentence1)\n"
   ],
   "outputs": [
    {
     "output_type": "stream",
     "name": "stdout",
     "text": [
      "A former Deputy Governor 's Central Bank said million Nigerians\n",
      "URGENT! We are trying to contact U. Todays draw shows that you have won a å£2000 prize GUARANTEED. Call 09066358361 from land line. Claim Y87. Valid 12hrs only,\n"
     ]
    }
   ],
   "metadata": {}
  },
  {
   "cell_type": "code",
   "execution_count": 14,
   "source": [
    "sentence_transform = pipeline(sentence)\n",
    "\n",
    "sentence1_transform = pipeline(sentence1)\n",
    "\n",
    "print(sentence_transform)\n",
    "\n",
    "print(sentence1_transform)\n"
   ],
   "outputs": [
    {
     "output_type": "stream",
     "name": "stdout",
     "text": [
      "former deputi governor central bank said million nigerian\n",
      "urgent tri contact u today draw show å£ prize guarante call  land line claim  valid \n"
     ]
    }
   ],
   "metadata": {}
  },
  {
   "cell_type": "code",
   "execution_count": 9,
   "source": [
    "model = pickle.load(open('models/model_pipeline.pkl', 'rb'))"
   ],
   "outputs": [],
   "metadata": {}
  },
  {
   "cell_type": "code",
   "execution_count": 18,
   "source": [
    "prediction = model.predict([sentence1_transform])\n",
    "prediction_proba = model.predict_proba([sentence1_transform])\n",
    "if prediction[0] == 0: \n",
    "    prediction = 'Non Spam Tweet'\n",
    "else: \n",
    "    prediction = 'Spam Tweet'\n",
    "\n",
    "print(f\"{sentence1} is a {prediction}\")\n",
    "print(f\"Model is {round(prediction_proba.max(), 3)}% Acuurate\")"
   ],
   "outputs": [
    {
     "output_type": "stream",
     "name": "stdout",
     "text": [
      "URGENT! We are trying to contact U. Todays draw shows that you have won a å£2000 prize GUARANTEED. Call 09066358361 from land line. Claim Y87. Valid 12hrs only, is a Spam Tweet\n",
      "Model is 0.9950000047683716% Acuurate\n"
     ]
    }
   ],
   "metadata": {}
  },
  {
   "cell_type": "code",
   "execution_count": null,
   "source": [],
   "outputs": [],
   "metadata": {}
  }
 ],
 "metadata": {
  "orig_nbformat": 4,
  "language_info": {
   "name": "python",
   "version": "3.9.6",
   "mimetype": "text/x-python",
   "codemirror_mode": {
    "name": "ipython",
    "version": 3
   },
   "pygments_lexer": "ipython3",
   "nbconvert_exporter": "python",
   "file_extension": ".py"
  },
  "kernelspec": {
   "name": "python3",
   "display_name": "Python 3.9.6 64-bit ('base': conda)"
  },
  "interpreter": {
   "hash": "767d51c1340bd893661ea55ea3124f6de3c7a262a8b4abca0554b478b1e2ff90"
  }
 },
 "nbformat": 4,
 "nbformat_minor": 2
}